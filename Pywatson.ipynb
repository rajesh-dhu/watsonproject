{
    "cells": [
        {
            "metadata": {},
            "cell_type": "code",
            "source": "print(\"Hello Rajesh, welocome to the future of Dataanalytics world./n Stay motivated and practice regularly, you will definitely be successful in upcomming days.\")",
            "execution_count": 2,
            "outputs": [
                {
                    "output_type": "stream",
                    "text": "Hello Rajesh, welocome to the future of Dataanalytics world./n Stay motivated and practice regularly, you will definitely be successful in upcomming days.\n",
                    "name": "stdout"
                }
            ]
        }
    ],
    "metadata": {
        "kernelspec": {
            "name": "python3",
            "display_name": "Python 3.7",
            "language": "python"
        },
        "language_info": {
            "name": "python",
            "version": "3.7.10",
            "mimetype": "text/x-python",
            "codemirror_mode": {
                "name": "ipython",
                "version": 3
            },
            "pygments_lexer": "ipython3",
            "nbconvert_exporter": "python",
            "file_extension": ".py"
        }
    },
    "nbformat": 4,
    "nbformat_minor": 1
}